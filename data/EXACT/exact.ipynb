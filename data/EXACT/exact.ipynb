{
 "cells": [
  {
   "cell_type": "code",
   "execution_count": 1,
   "metadata": {},
   "outputs": [],
   "source": [
    "import os\n",
    "from utils import *\n",
    "import pickle"
   ]
  },
  {
   "cell_type": "code",
   "execution_count": 2,
   "metadata": {},
   "outputs": [],
   "source": [
    "def oracle(num_bit,dim_query,dim_work):\n",
    "    # construct the orcale for all x\n",
    "    # num_bit : number of bit for boolean function\n",
    "    # dim_query : dimension of query register\n",
    "    # dim_work : dimension of working memory register\n",
    "    tmp0 = np.arange(2**num_bit, dtype=np.uint64).reshape(-1,1)\n",
    "    x_bit = unpackbits(tmp0, axis=-1, count=dim_query, bitorder='l').T\n",
    "    oracle = np.zeros([dim_acc,2**num_bit],dtype=np.complex128)\n",
    "    for i in range(2**num_bit):\n",
    "        oracle[:,i] = np.kron((-1)**x_bit[:,i],np.ones(dim_work))\n",
    "    return oracle\n",
    "\n",
    "def forward(dim_acc,num_bit,unitary,oracle):\n",
    "    state = np.zeros([dim_acc,2**num_bit],dtype=np.complex128)\n",
    "    state[0] = 1\n",
    "    state = unitary[0]@state\n",
    "    for i in range(1,len(unitary)):\n",
    "        state = oracle*state\n",
    "        state = unitary[i]@state\n",
    "    return state"
   ]
  },
  {
   "cell_type": "code",
   "execution_count": 3,
   "metadata": {},
   "outputs": [
    {
     "name": "stdout",
     "output_type": "stream",
     "text": [
      "EXACT(12,4,8)\t 7query error rate:2.969999270963086e-07\n",
      "EXACT(11,9,10)\t 9query error rate:6.747278391561196e-08\n",
      "EXACT(16,2,14)\t 13query error rate:6.461945106783773e-07\n",
      "EXACT(13,11,12)\t 11query error rate:7.841088556226339e-09\n",
      "EXACT(11,6,7)\t 7query error rate:2.5745128430232356e-06\n",
      "EXACT(13,12,13)\t 12query error rate:9.181477800268567e-10\n",
      "EXACT(14,3,11)\t 10query error rate:1.0550785692453601e-05\n",
      "EXACT(7,5,6)\t 5query error rate:8.133358431194893e-10\n",
      "EXACT(11,8,9)\t 8query error rate:9.849659055038984e-08\n",
      "EXACT(7,6,7)\t 6query error rate:1.6397994073713562e-12\n",
      "EXACT(14,4,10)\t 9query error rate:5.981798704146613e-07\n",
      "EXACT(13,10,11)\t 10query error rate:3.046532970008009e-06\n",
      "EXACT(14,2,12)\t 11query error rate:4.004814641911381e-06\n",
      "EXACT(10,4,6)\t 5query error rate:7.768092131765769e-07\n",
      "EXACT(10,3,7)\t 6query error rate:4.972727912555541e-06\n",
      "EXACT(12,2,10)\t 9query error rate:6.5077902923205144e-06\n",
      "EXACT(9,7,8)\t 7query error rate:8.026038603725638e-07\n",
      "EXACT(11,7,8)\t 7query error rate:6.102052486411935e-06\n",
      "EXACT(10,2,8)\t 7query error rate:1.0044575748935358e-06\n",
      "EXACT(7,4,5)\t 5query error rate:2.2104984509496717e-10\n",
      "EXACT(8,2,6)\t 5query error rate:4.036013745434275e-10\n",
      "EXACT(9,5,6)\t 6query error rate:1.8646584276638123e-10\n",
      "EXACT(12,3,9)\t 8query error rate:2.850737268467185e-08\n",
      "EXACT(11,10,11)\t 10query error rate:4.100830786057941e-11\n",
      "EXACT(16,3,13)\t 12query error rate:4.8455844663397585e-06\n",
      "EXACT(8,5,6)\t 5query error rate:1.1798606536217449e-10\n",
      "EXACT(9,6,7)\t 6query error rate:8.904366389783647e-07\n",
      "EXACT(8,6,7)\t 6query error rate:6.853275835716488e-09\n",
      "EXACT(7,3,4)\t 4query error rate:8.800271622533273e-11\n",
      "EXACT(9,8,9)\t 8query error rate:2.4064750192565043e-11\n"
     ]
    }
   ],
   "source": [
    "file_list = os.listdir(\"data/\")\n",
    "for file in file_list:\n",
    "    with open(\"data/\"+file,\"rb\") as f:\n",
    "        data= pickle.load(f)\n",
    "    n,k,l = data[\"n\"],data[\"k\"],data[\"l\"]\n",
    "    dim_query = n+1\n",
    "    partition = data[\"partition\"]\n",
    "    dim_acc = sum(partition)\n",
    "    dim_work = dim_acc//dim_query\n",
    "    weight = data[\"f(x)\"]\n",
    "    num_query = len(data[\"unitary_list\"])-1\n",
    "    state = forward(dim_acc,n,data[\"unitary_list\"],oracle(n,dim_query,dim_work))\n",
    "    mes = mes_matrix(partition,weight)\n",
    "    error_rate = np.max(1-np.sum(np.abs(state*mes)**2,axis=0))\n",
    "    print(f\"EXACT({n},{k},{l})\\t {num_query}query error rate:{error_rate}\")"
   ]
  },
  {
   "cell_type": "code",
   "execution_count": null,
   "metadata": {},
   "outputs": [],
   "source": []
  }
 ],
 "metadata": {
  "kernelspec": {
   "display_name": "Python 3.9.13 ('cupysim')",
   "language": "python",
   "name": "python3"
  },
  "language_info": {
   "codemirror_mode": {
    "name": "ipython",
    "version": 3
   },
   "file_extension": ".py",
   "mimetype": "text/x-python",
   "name": "python",
   "nbconvert_exporter": "python",
   "pygments_lexer": "ipython3",
   "version": "3.9.13"
  },
  "orig_nbformat": 4,
  "vscode": {
   "interpreter": {
    "hash": "e730e53f4426f68e07d3db60825a7b4896d27bb2507f7dac77600b0c9b9d08f0"
   }
  }
 },
 "nbformat": 4,
 "nbformat_minor": 2
}
