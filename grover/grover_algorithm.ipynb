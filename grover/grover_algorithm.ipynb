{
 "cells": [
  {
   "cell_type": "code",
   "execution_count": 1,
   "id": "a78bf7a1-5d10-4f53-bd15-f7f9d61f4386",
   "metadata": {},
   "outputs": [],
   "source": [
    "import numpy as np\n",
    "import os\n",
    "import pickle\n",
    "## for the original grover\n",
    "def grover_unitary(nqubit,n):\n",
    "    #famous -I+2A gate \n",
    "    inv = -np.eye(1<<nqubit,dtype=np.complex128)+2*np.ones((1<<nqubit,1<<nqubit),dtype=np.complex128)/(1<<nqubit)\n",
    "    return [inv for i in range(n)]\n",
    "\n",
    "def oracle(state,index):\n",
    "    state[index] *= -1\n",
    "    return state\n",
    "\n",
    "def apply_circuit(state,unitary_list,index):\n",
    "    for i in range(len(unitary_list)-1):\n",
    "        state = unitary_list[i]@state\n",
    "        state = oracle(state,index)\n",
    "    state = unitary_list[-1]@state\n",
    "    return state\n",
    "\n",
    "def apply_circuit_all(state,unitary_list):\n",
    "    success_rate = 0\n",
    "    for i in range(state.shape[0]):\n",
    "        tmp = np.copy(state)\n",
    "        tmp = apply_circuit(tmp,unitary_list,i)\n",
    "        success_rate += np.abs(tmp[i])**2\n",
    "    return success_rate/state.shape[0]"
   ]
  },
  {
   "cell_type": "markdown",
   "id": "3b2d5067-6f9c-45fe-a80d-ac3b26a25de3",
   "metadata": {},
   "source": [
    "## Success rate of search algorithm learned by VarQAA "
   ]
  },
  {
   "cell_type": "code",
   "execution_count": 3,
   "id": "53199507-4619-4669-a728-9f681ef080dc",
   "metadata": {},
   "outputs": [
    {
     "name": "stdout",
     "output_type": "stream",
     "text": [
      "3-qubit\t2-query\tsuccess rate:1.000000\n",
      "3-qubit\t1-query\tsuccess rate:0.781250\n",
      "5-qubit\t3-query\tsuccess rate:0.894505\n",
      "4-qubit\t2-query\tsuccess rate:0.908442\n",
      "4-qubit\t3-query\tsuccess rate:1.000000\n",
      "5-qubit\t4-query\tsuccess rate:1.000000\n"
     ]
    }
   ],
   "source": [
    "folder = \"unitary_data/\"\n",
    "files=os.listdir(folder)\n",
    "for file in files:\n",
    "    if not os.path.isdir(file):\n",
    "        with open(folder+file,\"rb\") as f:\n",
    "            data =pickle.load(f)\n",
    "            num_qubit = data[\"num_qubit\"]\n",
    "            num_block = data[\"num_block\"]\n",
    "            unitary_list = data[\"unitary_list\"]\n",
    "            state = np.zeros(2**num_qubit,dtype=np.complex128)\n",
    "            state[0]=1\n",
    "            success_rate = apply_circuit_all(state,unitary_list)\n",
    "            print(\"%d-qubit\\t%d-query\\tsuccess rate:%f\"%(num_qubit,num_block,success_rate))"
   ]
  },
  {
   "cell_type": "code",
   "execution_count": null,
   "id": "50c68452-311c-4345-b80a-8601616fd2be",
   "metadata": {},
   "outputs": [],
   "source": []
  }
 ],
 "metadata": {
  "kernelspec": {
   "display_name": "Python 3 (ipykernel)",
   "language": "python",
   "name": "python3"
  },
  "language_info": {
   "codemirror_mode": {
    "name": "ipython",
    "version": 3
   },
   "file_extension": ".py",
   "mimetype": "text/x-python",
   "name": "python",
   "nbconvert_exporter": "python",
   "pygments_lexer": "ipython3",
   "version": "3.9.12"
  }
 },
 "nbformat": 4,
 "nbformat_minor": 5
}
