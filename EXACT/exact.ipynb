{
 "cells": [
  {
   "cell_type": "code",
   "execution_count": 3,
   "metadata": {},
   "outputs": [],
   "source": [
    "import os\n",
    "from utils import *"
   ]
  },
  {
   "cell_type": "code",
   "execution_count": 2,
   "metadata": {},
   "outputs": [],
   "source": [
    "def oracle(num_bit,dim_query,dim_work):\n",
    "    # construct the orcale for all x\n",
    "    # num_bit : number of bit for boolean function\n",
    "    # dim_query : dimension of query register\n",
    "    # dim_work : dimension of working memory register\n",
    "    tmp0 = np.arange(2**num_bit, dtype=np.uint64).reshape(-1,1)\n",
    "    x_bit = unpackbits(tmp0, axis=-1, count=dim_query, bitorder='l').T\n",
    "    oracle = np.zeros([dim_acc,2**num_bit],dtype=np.complex128)\n",
    "    for i in range(2**num_bit):\n",
    "        oracle[:,i] = np.kron((-1)**x_bit[:,i],np.ones(dim_work))\n",
    "    return oracle\n",
    "\n",
    "def forward(dim_acc,num_bit,unitary,oracle):\n",
    "    state = np.zeros([dim_acc,2**num_bit],dtype=np.complex128)\n",
    "    state[0] = 1\n",
    "    state = unitary[0]@state\n",
    "    for i in range(1,len(unitary)):\n",
    "        state = oracle*state\n",
    "        state = unitary[i]@state\n",
    "    return state"
   ]
  },
  {
   "cell_type": "code",
   "execution_count": null,
   "metadata": {},
   "outputs": [],
   "source": [
    "mes = mes_matrix(partition,weight)"
   ]
  },
  {
   "cell_type": "code",
   "execution_count": null,
   "metadata": {},
   "outputs": [],
   "source": []
  }
 ],
 "metadata": {
  "kernelspec": {
   "display_name": "Python 3.9.13 ('cupysim')",
   "language": "python",
   "name": "python3"
  },
  "language_info": {
   "codemirror_mode": {
    "name": "ipython",
    "version": 3
   },
   "file_extension": ".py",
   "mimetype": "text/x-python",
   "name": "python",
   "nbconvert_exporter": "python",
   "pygments_lexer": "ipython3",
   "version": "3.9.13"
  },
  "orig_nbformat": 4,
  "vscode": {
   "interpreter": {
    "hash": "e730e53f4426f68e07d3db60825a7b4896d27bb2507f7dac77600b0c9b9d08f0"
   }
  }
 },
 "nbformat": 4,
 "nbformat_minor": 2
}
