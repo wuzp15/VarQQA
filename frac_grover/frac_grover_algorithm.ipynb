{
 "cells": [
  {
   "cell_type": "code",
   "execution_count": 1,
   "id": "9abedbbe-796f-4d36-b55f-7913b08105b7",
   "metadata": {},
   "outputs": [],
   "source": [
    "import numpy as np\n",
    "import os\n",
    "import pickle\n",
    "## for the original grover\n",
    "def grover_unitary(nqubit,n):\n",
    "    #famous -I+2A gate \n",
    "    inv = -np.eye(1<<nqubit,dtype=np.complex128)+2*np.ones((1<<nqubit,1<<nqubit),dtype=np.complex128)/(1<<nqubit)\n",
    "    return [inv for i in range(n)]\n",
    "\n",
    "def frac_oracle(state,index,alpha):\n",
    "    state[index] *= np.exp(-1j*np.pi*alpha)\n",
    "    return state\n",
    "\n",
    "def apply_circuit(state,unitary_list,alpha,index):\n",
    "    for i in range(len(unitary_list)-1):\n",
    "        state = unitary_list[i]@state\n",
    "        state = frac_oracle(state,index,alpha[i])\n",
    "    state = unitary_list[-1]@state\n",
    "    return state\n",
    "\n",
    "def apply_circuit_all(state,unitary_list,alpha):\n",
    "    success_rate = 0\n",
    "    for i in range(state.shape[0]):\n",
    "        tmp = np.copy(state)\n",
    "        tmp = apply_circuit(tmp,unitary_list,alpha,i)\n",
    "        success_rate += np.abs(tmp[i])**2\n",
    "    return success_rate/state.shape[0]"
   ]
  },
  {
   "cell_type": "code",
   "execution_count": 2,
   "id": "87cd7443-83aa-48fd-a4dd-45c9e19b34a5",
   "metadata": {},
   "outputs": [
    {
     "name": "stdout",
     "output_type": "stream",
     "text": [
      "3-qubit\t2-query\tsuccess rate:1.000000\n",
      "alpha: [0.85496436 0.86275447]\n",
      "4-qubit\t3-query\tsuccess rate:1.000000\n",
      "alpha: [0.98875366 0.99789003 0.97264992]\n"
     ]
    }
   ],
   "source": [
    "folder = \"unitary_data/\"\n",
    "files=os.listdir(folder)\n",
    "for file in files:\n",
    "    if not os.path.isdir(file):\n",
    "        with open(folder+file,\"rb\") as f:\n",
    "            data =pickle.load(f)\n",
    "            num_qubit = data[\"num_qubit\"]\n",
    "            num_block = data[\"num_block\"]\n",
    "            unitary_list = data[\"unitary_list\"]\n",
    "            alpha = data[\"alpha\"]\n",
    "            state = np.zeros(2**num_qubit,dtype=np.complex128)\n",
    "            state[0]=1\n",
    "            success_rate = apply_circuit_all(state,unitary_list,alpha)\n",
    "            print(\"%d-qubit\\t%d-query\\tsuccess rate:%f\"%(num_qubit,num_block,success_rate))\n",
    "            print(\"alpha:\",alpha)"
   ]
  },
  {
   "cell_type": "code",
   "execution_count": null,
   "id": "bd657f70-9370-4b86-8e33-3007e6d8d754",
   "metadata": {},
   "outputs": [],
   "source": []
  }
 ],
 "metadata": {
  "kernelspec": {
   "display_name": "Python 3 (ipykernel)",
   "language": "python",
   "name": "python3"
  },
  "language_info": {
   "codemirror_mode": {
    "name": "ipython",
    "version": 3
   },
   "file_extension": ".py",
   "mimetype": "text/x-python",
   "name": "python",
   "nbconvert_exporter": "python",
   "pygments_lexer": "ipython3",
   "version": "3.9.12"
  }
 },
 "nbformat": 4,
 "nbformat_minor": 5
}
